{
 "cells": [
  {
   "cell_type": "code",
   "execution_count": 25,
   "metadata": {
    "collapsed": false
   },
   "outputs": [],
   "source": [
    "from __future__ import absolute_import\n",
    "from __future__ import division\n",
    "from __future__ import print_function\n",
    "\n",
    "#Imports\n",
    "import numpy as np\n",
    "import tensorflow as tf\n",
    "#from tensorflow import layers\n",
    "#from tensorflow.python.layers.convolutional import conv2d \n",
    "from tensorflow.contrib import learn\n",
    "from tensorflow.contrib.learn.python.learn.estimators import model_fn as model_fn_lib"
   ]
  },
  {
   "cell_type": "code",
   "execution_count": 3,
   "metadata": {
    "collapsed": true
   },
   "outputs": [],
   "source": [
    "tf.logging.set_verbosity(tf.logging.INFO)\n",
    "\n",
    "#if __name__==\"__main__\":\n",
    " #   tf.app.run()"
   ]
  },
  {
   "cell_type": "code",
   "execution_count": 46,
   "metadata": {
    "collapsed": false
   },
   "outputs": [],
   "source": [
    "def cnn_model_fn(features,labels,mode):\n",
    "    #input layer\n",
    "    input_layer=tf.reshape(features,[-1,128,128,3])\n",
    "    \n",
    "    #Convolutional layer 1 \n",
    "    conv1=tf.layers.conv2d(\n",
    "    inputs=input_layer,\n",
    "    filters=32,\n",
    "    kernel_size=[5,5],\n",
    "    padding=\"same\",\n",
    "    activation=tf.nn.relu)\n",
    "    \n",
    "    #pooling layer - change pool size later\n",
    "    pool1=tf.layers.max_pooling2d(inputs=conv1,pool_size=[2,2],strides=2)\n",
    "    \n",
    "    #Convolutional layer 2\n",
    "    conv2=tf.layers.conv2d(\n",
    "    inputs=pool1,\n",
    "    filters=16,\n",
    "    kernel_size=[5,5],\n",
    "    padding=\"same\",\n",
    "    activation=tf.nn.relu)\n",
    "    \n",
    "    #pooling layer - change pool size later\n",
    "    pool2=tf.layers.max_pooling2d(inputs=conv2,pool_size=[2,2],strides=2)\n",
    "    \n",
    "    #Convolutional layer 3\n",
    "    conv3=tf.layers.conv2d(\n",
    "    inputs=input_layer,\n",
    "    filters=4,\n",
    "    kernel_size=[5,5],\n",
    "    padding=\"same\",\n",
    "    activation=tf.nn.relu)\n",
    "    \n",
    "    #pooling layer - change pool size later\n",
    "    pool3=tf.layers.max_pooling2d(inputs=conv3,pool_size=[2,2],strides=2)\n",
    "    \n",
    "    #Dense layer\n",
    "    # Dense Laye\n",
    "    pool3_flat = tf.reshape(pool3, [-1, 64 * 64 * 4])\n",
    "    dense1 = tf.layers.dense(inputs=pool3_flat, units=256, activation=tf.nn.relu)\n",
    "    dense2 = tf.layers.dense(inputs=dense1, units=32, activation=tf.nn.relu)\n",
    "    dense3 = tf.layers.dense(inputs=dense2, units=16, activation=tf.nn.relu)\n",
    "    dense4 = tf.layers.dense(inputs=dense3, units=8, activation=tf.nn.relu)\n",
    "    dense5 = tf.layers.dense(inputs=dense4, units=4, activation=tf.nn.relu)\n",
    "    dense6 = tf.layers.dense(inputs=dense5, units=2, activation=tf.nn.relu)\n",
    "    dropout = tf.layers.dropout(\n",
    "      inputs=dense6, rate=0.4, training=mode == learn.ModeKeys.TRAIN)\n",
    "\n",
    "      # Logits Layer\n",
    "    logits = tf.layers.dense(inputs=dropout, units=2)\n",
    "\n",
    "    loss = None\n",
    "    train_op = None\n",
    "\n",
    "      # Calculate Loss (for both TRAIN and EVAL modes)\n",
    "    if mode != learn.ModeKeys.INFER:\n",
    "        onehot_labels = tf.one_hot(indices=tf.cast(labels, tf.int32), depth=2)\n",
    "        loss = tf.losses.softmax_cross_entropy(\n",
    "        onehot_labels=onehot_labels, logits=logits)\n",
    "\n",
    "    # Configure the Training Op (for TRAIN mode)\n",
    "    if mode == learn.ModeKeys.TRAIN:\n",
    "        train_op = tf.contrib.layers.optimize_loss(\n",
    "        loss=loss,\n",
    "        global_step=tf.contrib.framework.get_global_step(),\n",
    "        learning_rate=0.001,\n",
    "        optimizer=\"SGD\")\n",
    "\n",
    "    # Generate Predictions\n",
    "    predictions = {\n",
    "      \"classes\": tf.argmax(\n",
    "          input=logits, axis=1),\n",
    "      \"probabilities\": tf.nn.softmax(\n",
    "          logits, name=\"softmax_tensor\")\n",
    "  }\n",
    "    \n",
    "\n",
    "    # Return a ModelFnOps object\n",
    "    return model_fn_lib.ModelFnOps(\n",
    "          mode=mode, predictions=predictions, loss=loss, train_op=train_op)\n",
    "    \n",
    "\n",
    "    \n",
    "    \n"
   ]
  },
  {
   "cell_type": "code",
   "execution_count": 48,
   "metadata": {
    "collapsed": false
   },
   "outputs": [
    {
     "name": "stdout",
     "output_type": "stream",
     "text": [
      "INFO:tensorflow:Using default config.\n",
      "INFO:tensorflow:Using config: {'_save_checkpoints_steps': None, '_num_worker_replicas': 0, '_cluster_spec': <tensorflow.python.training.server_lib.ClusterSpec object at 0x7f8d5760ec88>, '_evaluation_master': '', '_is_chief': True, '_task_id': 0, '_master': '', '_tf_config': gpu_options {\n",
      "  per_process_gpu_memory_fraction: 1.0\n",
      "}\n",
      ", '_tf_random_seed': None, '_save_summary_steps': 100, '_save_checkpoints_secs': 600, '_task_type': None, '_model_dir': None, '_keep_checkpoint_max': 5, '_num_ps_replicas': 0, '_environment': 'local', '_keep_checkpoint_every_n_hours': 10000}\n",
      "WARNING:tensorflow:Using temporary folder as model directory: /tmp/tmp30c4zek_\n",
      "WARNING:tensorflow:From <ipython-input-48-94ecf338ed63>:37: calling BaseEstimator.fit (from tensorflow.contrib.learn.python.learn.estimators.estimator) with batch_size is deprecated and will be removed after 2016-12-01.\n",
      "Instructions for updating:\n",
      "Estimator is decoupled from Scikit Learn interface by moving into\n",
      "separate class SKCompat. Arguments x, y and batch_size are only\n",
      "available in the SKCompat class, Estimator will only accept input_fn.\n",
      "Example conversion:\n",
      "  est = Estimator(...) -> est = SKCompat(Estimator(...))\n",
      "WARNING:tensorflow:From <ipython-input-48-94ecf338ed63>:37: calling BaseEstimator.fit (from tensorflow.contrib.learn.python.learn.estimators.estimator) with x is deprecated and will be removed after 2016-12-01.\n",
      "Instructions for updating:\n",
      "Estimator is decoupled from Scikit Learn interface by moving into\n",
      "separate class SKCompat. Arguments x, y and batch_size are only\n",
      "available in the SKCompat class, Estimator will only accept input_fn.\n",
      "Example conversion:\n",
      "  est = Estimator(...) -> est = SKCompat(Estimator(...))\n",
      "WARNING:tensorflow:From <ipython-input-48-94ecf338ed63>:37: calling BaseEstimator.fit (from tensorflow.contrib.learn.python.learn.estimators.estimator) with y is deprecated and will be removed after 2016-12-01.\n",
      "Instructions for updating:\n",
      "Estimator is decoupled from Scikit Learn interface by moving into\n",
      "separate class SKCompat. Arguments x, y and batch_size are only\n",
      "available in the SKCompat class, Estimator will only accept input_fn.\n",
      "Example conversion:\n",
      "  est = Estimator(...) -> est = SKCompat(Estimator(...))\n"
     ]
    },
    {
     "name": "stderr",
     "output_type": "stream",
     "text": [
      "/usr/local/lib/python3.5/dist-packages/tensorflow/python/util/deprecation.py:248: FutureWarning: comparison to `None` will result in an elementwise object comparison in the future.\n",
      "  equality = a == b\n"
     ]
    },
    {
     "name": "stdout",
     "output_type": "stream",
     "text": [
      "INFO:tensorflow:Create CheckpointSaverHook.\n",
      "INFO:tensorflow:Saving checkpoints for 1 into /tmp/tmp30c4zek_/model.ckpt.\n",
      "INFO:tensorflow:loss = 0.689488, step = 1\n",
      "INFO:tensorflow:probabilities = [[ 0.5         0.5       ]\n",
      " [ 0.5         0.5       ]\n",
      " [ 0.5         0.5       ]\n",
      " [ 0.5         0.5       ]\n",
      " [ 0.5         0.5       ]\n",
      " [ 0.5         0.5       ]\n",
      " [ 0.5         0.5       ]\n",
      " [ 0.5         0.5       ]\n",
      " [ 0.5         0.5       ]\n",
      " [ 0.5         0.5       ]\n",
      " [ 0.5         0.5       ]\n",
      " [ 0.5         0.5       ]\n",
      " [ 0.5         0.5       ]\n",
      " [ 0.5         0.5       ]\n",
      " [ 0.5         0.5       ]\n",
      " [ 0.5         0.5       ]\n",
      " [ 0.5         0.5       ]\n",
      " [ 0.5         0.5       ]\n",
      " [ 0.5         0.5       ]\n",
      " [ 0.5         0.5       ]\n",
      " [ 0.5         0.5       ]\n",
      " [ 0.5         0.5       ]\n",
      " [ 0.5         0.5       ]\n",
      " [ 0.5         0.5       ]\n",
      " [ 0.5         0.5       ]\n",
      " [ 0.5         0.5       ]\n",
      " [ 0.5         0.5       ]\n",
      " [ 0.5         0.5       ]\n",
      " [ 0.5         0.5       ]\n",
      " [ 0.5         0.5       ]\n",
      " [ 0.5         0.5       ]\n",
      " [ 0.5         0.5       ]\n",
      " [ 0.5         0.5       ]\n",
      " [ 0.5         0.5       ]\n",
      " [ 0.5         0.5       ]\n",
      " [ 0.39960876  0.60039127]\n",
      " [ 0.5         0.5       ]\n",
      " [ 0.5         0.5       ]\n",
      " [ 0.5         0.5       ]\n",
      " [ 0.5         0.5       ]\n",
      " [ 0.5         0.5       ]\n",
      " [ 0.5         0.5       ]\n",
      " [ 0.5         0.5       ]\n",
      " [ 0.5         0.5       ]\n",
      " [ 0.5         0.5       ]\n",
      " [ 0.5         0.5       ]\n",
      " [ 0.5         0.5       ]\n",
      " [ 0.5         0.5       ]\n",
      " [ 0.5         0.5       ]\n",
      " [ 0.5         0.5       ]]\n",
      "INFO:tensorflow:Saving checkpoints for 20 into /tmp/tmp30c4zek_/model.ckpt.\n",
      "INFO:tensorflow:Loss for final step: 0.692473.\n",
      "WARNING:tensorflow:From <ipython-input-48-94ecf338ed63>:41: calling BaseEstimator.evaluate (from tensorflow.contrib.learn.python.learn.estimators.estimator) with x is deprecated and will be removed after 2016-12-01.\n",
      "Instructions for updating:\n",
      "Estimator is decoupled from Scikit Learn interface by moving into\n",
      "separate class SKCompat. Arguments x, y and batch_size are only\n",
      "available in the SKCompat class, Estimator will only accept input_fn.\n",
      "Example conversion:\n",
      "  est = Estimator(...) -> est = SKCompat(Estimator(...))\n",
      "WARNING:tensorflow:From <ipython-input-48-94ecf338ed63>:41: calling BaseEstimator.evaluate (from tensorflow.contrib.learn.python.learn.estimators.estimator) with y is deprecated and will be removed after 2016-12-01.\n",
      "Instructions for updating:\n",
      "Estimator is decoupled from Scikit Learn interface by moving into\n",
      "separate class SKCompat. Arguments x, y and batch_size are only\n",
      "available in the SKCompat class, Estimator will only accept input_fn.\n",
      "Example conversion:\n",
      "  est = Estimator(...) -> est = SKCompat(Estimator(...))\n",
      "INFO:tensorflow:Starting evaluation at 2017-03-17-08:19:36\n",
      "INFO:tensorflow:Restoring parameters from /tmp/tmp30c4zek_/model.ckpt-20\n",
      "INFO:tensorflow:Finished evaluation at 2017-03-17-08:19:36\n",
      "INFO:tensorflow:Saving dict for global step 20: accuracy = 0.625, global_step = 20, loss = 0.692583\n",
      "WARNING:tensorflow:Skipping summary for global_step, must be a float or np.float32.\n",
      "{'loss': 0.6925832, 'global_step': 20, 'accuracy': 0.625}\n"
     ]
    },
    {
     "ename": "SystemExit",
     "evalue": "",
     "output_type": "error",
     "traceback": [
      "An exception has occurred, use %tb to see the full traceback.\n",
      "\u001b[0;31mSystemExit\u001b[0m\n"
     ]
    },
    {
     "name": "stderr",
     "output_type": "stream",
     "text": [
      "/home/harikrishna/.local/lib/python3.5/site-packages/IPython/core/interactiveshell.py:2889: UserWarning: To exit: use 'exit', 'quit', or Ctrl-D.\n",
      "  warn(\"To exit: use 'exit', 'quit', or Ctrl-D.\", stacklevel=1)\n"
     ]
    }
   ],
   "source": [
    "def main(unused_argv):\n",
    "    directory='/home/harikrishna/Documents/Deep Learning/Midterm/Data/'\n",
    "    for image_path in glob.glob(directory+\"*.png\"):\n",
    "        currentimage = misc.imread(image_path)\n",
    "        currentresize = misc.imresize(currentimage,(128,128))\n",
    "        if 'Building' in image_path:\n",
    "            images_train.append(currentresize)\n",
    "            output_train.append(np.array(1))\n",
    "        else:\n",
    "            images_train.append(currentresize)\n",
    "            output_train.append(np.array(0))\n",
    "        \n",
    "    images_np_array_train = np.float32(np.array(images_train))\n",
    "    output_np_array_train = np.float32(np.array(output_train))\n",
    "    \n",
    "    images_test=[]\n",
    "    output_test=[]\n",
    "    directory='/home/harikrishna/Documents/Deep Learning/Midterm/Test/'\n",
    "    for image_path in glob.glob(directory+\"*.png\"):\n",
    "        currentimage = misc.imread(image_path)\n",
    "        currentresize = misc.imresize(currentimage,(128,128))\n",
    "        if 'Building' in image_path:\n",
    "            images_test.append(currentresize)\n",
    "            output_test.append(np.array(0))\n",
    "        else:\n",
    "            images_test.append(currentresize)\n",
    "            output_test.append(np.array(1))\n",
    "    #plt.imshow(images_test[0])\n",
    "    images_np_array_test = np.float32(np.array(images_test))\n",
    "    output_np_array_test = np.float32(np.array(output_test))\n",
    "   \n",
    "    #creating a estimator\n",
    "    classifier=learn.Estimator(model_fn=cnn_model_fn)\n",
    "    #logging\n",
    "    tensors_to_log = {\"probabilities\": \"softmax_tensor\"}\n",
    "    logging_hook = tf.train.LoggingTensorHook(tensors=tensors_to_log, every_n_iter=50)\n",
    "    classifier.fit(x=images_np_array_train,y=output_np_array_train,batch_size=50,steps=20,monitors=[logging_hook])\n",
    "    #Accuracy\n",
    "    metrics = {\"accuracy\":learn.MetricSpec(metric_fn=tf.metrics.accuracy, prediction_key=\"classes\"),}\n",
    "    eval_results=classifier.evaluate(\n",
    "    x=images_np_array_test,y=output_np_array_test,metrics=metrics)\n",
    "    print(eval_results)\n",
    "    \n",
    "if __name__==\"__main__\":\n",
    "    tf.app.run()\n",
    "\n",
    "\n"
   ]
  },
  {
   "cell_type": "code",
   "execution_count": null,
   "metadata": {
    "collapsed": true
   },
   "outputs": [],
   "source": [
    "mnist = learn.datasets.load_dataset(\"mnist\")\n",
    "train_data = mnist.train.images # Returns np.array\n",
    "train_labels = np.asarray(mnist.train.labels, dtype=np.int32)\n",
    "eval_data = mnist.test.images # Returns np.array\n",
    "eval_labels = np.asarray(mnist.test.labels, dtype=np.int32)"
   ]
  },
  {
   "cell_type": "code",
   "execution_count": 41,
   "metadata": {
    "collapsed": true
   },
   "outputs": [],
   "source": [
    "images_test=[]\n",
    "output_test=[]\n",
    "directory='/home/harikrishna/Documents/Deep Learning/Midterm/Test/'\n",
    "for image_path in glob.glob(directory+\"*.png\"):\n",
    "    currentimage = misc.imread(image_path,mode='L')\n",
    "    currentresize = misc.imresize(currentimage,(128,128))\n",
    "    if 'Building' in image_path:\n",
    "        images_test.append(currentresize)\n",
    "        output_test.append(np.array(0))\n",
    "    else:\n",
    "        images_test.append(currentresize)\n",
    "        output_test.append(np.array(1))\n",
    "    #plt.imshow(images_test[0])\n",
    "\n",
    "images_np_array_test = np.float32(np.array(images_test))\n",
    "output_np_array_test = np.float32(np.array(output_test))"
   ]
  },
  {
   "cell_type": "code",
   "execution_count": 43,
   "metadata": {
    "collapsed": false
   },
   "outputs": [
    {
     "data": {
      "text/plain": [
       "(16, 128, 128)"
      ]
     },
     "execution_count": 43,
     "metadata": {},
     "output_type": "execute_result"
    }
   ],
   "source": [
    "images_np_array_test.shape"
   ]
  },
  {
   "cell_type": "code",
   "execution_count": 23,
   "metadata": {
    "collapsed": false
   },
   "outputs": [],
   "source": [
    "#REading images and assigning for train\n",
    "%matplotlib inline\n",
    "import matplotlib.pyplot as plt\n",
    "import numpy as np\n",
    "import scipy.ndimage as ni\n",
    "import scipy.misc as mi\n",
    "from PIL import Image\n",
    "from scipy import misc\n",
    "import glob\n",
    "images_train=[]\n",
    "output_train=[]\n",
    "directory='/home/harikrishna/Documents/Deep Learning/Midterm/Data/'\n",
    "for image_path in glob.glob(directory+\"*.png\"):\n",
    "    currentimage = misc.imread(image_path)\n",
    "    currentresize = misc.imresize(currentimage,(128,128))\n",
    "    if 'Building' in image_path:\n",
    "        images_train.append(currentresize)\n",
    "        output_train.append(np.array(1))\n",
    "    else:\n",
    "        images_train.append(currentresize)\n",
    "        output_train.append(np.array(0))\n",
    "        \n",
    "images_np_array_train = np.float32(np.array(images_train))\n",
    "output_np_array_train = np.float32(np.array(output_train))"
   ]
  },
  {
   "cell_type": "code",
   "execution_count": 24,
   "metadata": {
    "collapsed": false
   },
   "outputs": [
    {
     "data": {
      "text/plain": [
       "(75, 128, 128, 3)"
      ]
     },
     "execution_count": 24,
     "metadata": {},
     "output_type": "execute_result"
    }
   ],
   "source": [
    "images_np_array_train.shape"
   ]
  },
  {
   "cell_type": "code",
   "execution_count": null,
   "metadata": {
    "collapsed": true
   },
   "outputs": [],
   "source": [
    "#REading images and assigning for train\n",
    "%matplotlib inline\n",
    "import matplotlib.pyplot as plt\n",
    "import numpy as np\n",
    "import scipy.ndimage as ni\n",
    "import scipy.misc as mi\n",
    "from PIL import Image\n",
    "from scipy import misc\n",
    "import glob\n",
    "images_train=[]\n",
    "output_train=[]\n",
    "directory='/home/harikrishna/Documents/Deep Learning/Midterm/Test/'\n",
    "for image_path in glob.glob(directory+\"*.png\"):\n",
    "    currentimage = misc.imread(image_path)\n",
    "    currentresize = misc.imresize(currentimage,(128,128))\n",
    "    if 'Building' in image_path:\n",
    "        images_train.append(currentresize)\n",
    "        output_train.append(np.array(1))\n",
    "    else:\n",
    "        images_train.append(currentresize)\n",
    "        output_train.append(np.array(0))\n",
    "        \n",
    "images_np_array_train = np.float32(np.array(images_train))\n",
    "output_np_array_train = np.float32(np.array(output_train))"
   ]
  },
  {
   "cell_type": "code",
   "execution_count": 19,
   "metadata": {
    "collapsed": false
   },
   "outputs": [
    {
     "data": {
      "text/plain": [
       "(75,)"
      ]
     },
     "execution_count": 19,
     "metadata": {},
     "output_type": "execute_result"
    }
   ],
   "source": [
    "output_np_array_train.shape"
   ]
  },
  {
   "cell_type": "code",
   "execution_count": 17,
   "metadata": {
    "collapsed": false
   },
   "outputs": [],
   "source": [
    "input_layer=images_np_array_train[1].shape"
   ]
  },
  {
   "cell_type": "code",
   "execution_count": 6,
   "metadata": {
    "collapsed": false,
    "scrolled": true
   },
   "outputs": [],
   "source": [
    "input_layer=tf.reshape(images_np_array_train,[-1,128,128,3])\n",
    "    \n",
    "#Convolutional layer 1 \n",
    "conv1=tf.layers.conv2d(inputs=input_layer,filters=32,kernel_size=[5,5],padding=\"same\",activation=tf.nn.relu)\n",
    "    \n",
    "#pooling layer - change pool size later\n",
    "pool1=tf.layers.max_pooling2d(inputs=conv1,pool_size=[2,2],strides=2)\n",
    "    \n",
    "#Convolutional layer 2\n",
    "conv2=tf.layers.conv2d(inputs=pool1,filters=16,kernel_size=[5,5],padding=\"same\",activation=tf.nn.relu)\n",
    "    \n",
    "#pooling layer - change pool size later\n",
    "pool2=tf.layers.max_pooling2d(inputs=conv2,pool_size=[2,2],strides=2)\n",
    "    \n",
    "#Convolutional layer 3\n",
    "conv3=tf.layers.conv2d(inputs=input_layer,filters=4,kernel_size=[5,5],padding=\"same\",activation=tf.nn.relu)\n",
    "    \n",
    "#pooling layer - change pool size later\n",
    "pool3=tf.layers.max_pooling2d(inputs=conv3,pool_size=[2,2],strides=2)\n",
    "pool3_flat = tf.reshape(pool3, [-1, 64 * 64 * 4])\n",
    "dense1 = tf.layers.dense(inputs=pool3_flat, units=256, activation=tf.nn.relu)\n",
    "dense2 = tf.layers.dense(inputs=dense1, units=32, activation=tf.nn.relu)\n",
    "dense3 = tf.layers.dense(inputs=dense2, units=16, activation=tf.nn.relu)\n",
    "dense4 = tf.layers.dense(inputs=dense3, units=8, activation=tf.nn.relu)\n",
    "dense5 = tf.layers.dense(inputs=dense4, units=4, activation=tf.nn.relu)\n",
    "dense6 = tf.layers.dense(inputs=dense5, units=2, activation=tf.nn.relu)\n",
    "    "
   ]
  },
  {
   "cell_type": "code",
   "execution_count": 7,
   "metadata": {
    "collapsed": false
   },
   "outputs": [
    {
     "data": {
      "text/plain": [
       "<tf.Tensor 'dense_6/Relu:0' shape=(75, 2) dtype=float32>"
      ]
     },
     "execution_count": 7,
     "metadata": {},
     "output_type": "execute_result"
    }
   ],
   "source": [
    "dense6"
   ]
  },
  {
   "cell_type": "code",
   "execution_count": null,
   "metadata": {
    "collapsed": true
   },
   "outputs": [],
   "source": []
  }
 ],
 "metadata": {
  "kernelspec": {
   "display_name": "Python 3",
   "language": "python",
   "name": "python3"
  },
  "language_info": {
   "codemirror_mode": {
    "name": "ipython",
    "version": 3
   },
   "file_extension": ".py",
   "mimetype": "text/x-python",
   "name": "python",
   "nbconvert_exporter": "python",
   "pygments_lexer": "ipython3",
   "version": "3.5.2"
  }
 },
 "nbformat": 4,
 "nbformat_minor": 2
}
