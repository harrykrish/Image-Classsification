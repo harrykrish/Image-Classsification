{
 "cells": [
  {
   "cell_type": "code",
   "execution_count": null,
   "metadata": {
    "collapsed": true
   },
   "outputs": [],
   "source": [
    "#test data"
   ]
  },
  {
   "cell_type": "code",
   "execution_count": 55,
   "metadata": {
    "collapsed": false
   },
   "outputs": [],
   "source": [
    "%matplotlib inline\n",
    "import matplotlib.pyplot as plt\n",
    "import numpy as np\n",
    "import scipy.ndimage as ni\n",
    "import scipy.misc as mi\n",
    "from PIL import Image\n",
    "from scipy import misc\n",
    "import glob\n",
    "images_test=[]\n",
    "output_test=[]\n",
    "directory='/home/harikrishna/Documents/Deep Learning/Midterm/Test/'\n",
    "for image_path in glob.glob(directory+\"*.png\"):\n",
    "    currentimage = misc.imread(image_path)\n",
    "    currentresize = misc.imresize(image,(128,128))\n",
    "    if 'Building' in image_path:\n",
    "        images_test.append(currentresize)\n",
    "        output_test.append([1,0])\n",
    "    else:\n",
    "        images_test.append(currentresize)\n",
    "        output_test.append([0,1])\n",
    "        \n",
    "        #print(image.shape)\n",
    "        "
   ]
  },
  {
   "cell_type": "code",
   "execution_count": 76,
   "metadata": {
    "collapsed": false
   },
   "outputs": [],
   "source": [
    "#For reg nets\n",
    "%matplotlib inline\n",
    "import matplotlib.pyplot as plt\n",
    "import numpy as np\n",
    "import scipy.ndimage as ni\n",
    "import scipy.misc as mi\n",
    "from PIL import Image\n",
    "from scipy import misc\n",
    "import glob\n",
    "images_test=[]\n",
    "output_test=[]\n",
    "directory='/home/harikrishna/Documents/Deep Learning/Midterm/Test/'\n",
    "for image_path in glob.glob(directory+\"*.png\"):\n",
    "    currentimage = misc.imread(image_path,mode='L')\n",
    "    currentresize = misc.imresize(currentimage,(128,128))\n",
    "    if 'Building' in image_path:\n",
    "        images_test.append(currentresize)\n",
    "        output_test.append([1,0])\n",
    "    else:\n",
    "        images_test.append(currentresize)\n",
    "        output_test.append([0,1])\n",
    "#plt.imshow(images_test[0])\n",
    "images_np_array_test = np.array(images_test)\n",
    "output_np_array_test = np.array(output_test)\n",
    "        #print(image.shape)"
   ]
  },
  {
   "cell_type": "code",
   "execution_count": 56,
   "metadata": {
    "collapsed": false
   },
   "outputs": [],
   "source": [
    "images_np_array_test = np.array(images_test) "
   ]
  },
  {
   "cell_type": "code",
   "execution_count": 57,
   "metadata": {
    "collapsed": false
   },
   "outputs": [],
   "source": [
    "output_np_array_test = np.array(output_test) "
   ]
  },
  {
   "cell_type": "code",
   "execution_count": 58,
   "metadata": {
    "collapsed": false
   },
   "outputs": [
    {
     "data": {
      "text/plain": [
       "(16, 128, 128, 3)"
      ]
     },
     "execution_count": 58,
     "metadata": {},
     "output_type": "execute_result"
    }
   ],
   "source": [
    "images_np_array.shape"
   ]
  },
  {
   "cell_type": "code",
   "execution_count": 59,
   "metadata": {
    "collapsed": true
   },
   "outputs": [],
   "source": [
    "#training data"
   ]
  },
  {
   "cell_type": "code",
   "execution_count": 60,
   "metadata": {
    "collapsed": true
   },
   "outputs": [],
   "source": [
    "%matplotlib inline\n",
    "import matplotlib.pyplot as plt\n",
    "import numpy as np\n",
    "import scipy.ndimage as ni\n",
    "import scipy.misc as mi\n",
    "from PIL import Image\n",
    "from scipy import misc\n",
    "import glob\n",
    "images_train=[]\n",
    "output_train=[]\n",
    "directory='/home/harikrishna/Documents/Deep Learning/Midterm/Data/'\n",
    "for image_path in glob.glob(directory+\"*.png\"):\n",
    "    currentimage = misc.imread(image_path)\n",
    "    currentresize = misc.imresize(image,(128,128))\n",
    "    if 'Building' in image_path:\n",
    "        images_train.append(currentresize)\n",
    "        output_train.append([1,0])\n",
    "    else:\n",
    "        images_train.append(currentresize)\n",
    "        output_train.append([0,1])\n",
    "        \n",
    "        #print(image.shape)\n",
    "        "
   ]
  },
  {
   "cell_type": "code",
   "execution_count": 75,
   "metadata": {
    "collapsed": true
   },
   "outputs": [],
   "source": [
    "##For regular nets\n",
    "%matplotlib inline\n",
    "import matplotlib.pyplot as plt\n",
    "import numpy as np\n",
    "import scipy.ndimage as ni\n",
    "import scipy.misc as mi\n",
    "from PIL import Image\n",
    "from scipy import misc\n",
    "import glob\n",
    "images_train=[]\n",
    "output_train=[]\n",
    "directory='/home/harikrishna/Documents/Deep Learning/Midterm/Data/'\n",
    "for image_path in glob.glob(directory+\"*.png\"):\n",
    "    currentimage = misc.imread(image_path,mode='L')\n",
    "    currentresize = misc.imresize(currentimage,(128,128))\n",
    "    if 'Building' in image_path:\n",
    "        images_train.append(currentresize)\n",
    "        output_train.append([1,0])\n",
    "    else:\n",
    "        images_train.append(currentresize)\n",
    "        output_train.append([0,1])\n",
    "images_np_array_train = np.array(images_train)\n",
    "output_np_array_train = np.array(output_train)\n",
    "        #print(image.shape)"
   ]
  },
  {
   "cell_type": "code",
   "execution_count": 72,
   "metadata": {
    "collapsed": false
   },
   "outputs": [
    {
     "data": {
      "text/plain": [
       "(75, 128, 128, 3)"
      ]
     },
     "execution_count": 72,
     "metadata": {},
     "output_type": "execute_result"
    }
   ],
   "source": [
    "images_np_array_train.shape"
   ]
  },
  {
   "cell_type": "code",
   "execution_count": 77,
   "metadata": {
    "collapsed": false
   },
   "outputs": [],
   "source": [
    "import tensorflow as tf\n",
    "#Regular Deep nets Initialization\n",
    "x=tf.placeholder(tf.float32,[None,16384])\n",
    "y_=tf.placeholder(tf.float32,[None,2])\n",
    "\n",
    "W=tf.Variable(tf.zeros([16384,2]))\n",
    "b=tf.Variable(tf.zeros([2]))\n",
    "\n",
    "y=tf.nn.softmax(tf.matmul(x,W)+b)\n",
    "cross_entropy= -tf.reduce_sum(y_*tf.log(y))\n",
    "\n",
    "train_step=tf.train.GradientDescentOptimizer(0.01).minimize(cross_entropy)\n",
    "\n",
    "correct_prediction = tf.equal(tf.argmax(y,1), tf.argmax(y_,1))\n",
    "accuracy = tf.reduce_mean(tf.cast(correct_prediction, \"float\"))"
   ]
  },
  {
   "cell_type": "code",
   "execution_count": 78,
   "metadata": {
    "collapsed": false
   },
   "outputs": [
    {
     "name": "stdout",
     "output_type": "stream",
     "text": [
      "WARNING:tensorflow:From <ipython-input-78-0bfc90bba489>:1 in <module>.: initialize_all_variables (from tensorflow.python.ops.variables) is deprecated and will be removed after 2017-03-02.\n",
      "Instructions for updating:\n",
      "Use `tf.global_variables_initializer` instead.\n",
      "0.375\n"
     ]
    }
   ],
   "source": [
    "init=tf.initialize_all_variables()\n",
    "\n",
    "#creating a session\n",
    "sess=tf.Session()\n",
    "sess.run(init)\n",
    "\n",
    "for i in range(1000):\n",
    "    for j in range(len(images_train)):\n",
    "        batch_xs,batch_ys=np.reshape(images_train[j],(-1,16384)),np.reshape(output_train[j],(-1,2))\n",
    "    sess.run(train_step,feed_dict={x:batch_xs,y_:batch_ys})\n",
    "print(sess.run(accuracy,feed_dict={x:np.reshape(images_test,(-1,16384)),y_:np.reshape(output_test,(-1,2))}))\n"
   ]
  },
  {
   "cell_type": "code",
   "execution_count": null,
   "metadata": {
    "collapsed": false
   },
   "outputs": [],
   "source": []
  },
  {
   "cell_type": "code",
   "execution_count": null,
   "metadata": {
    "collapsed": true
   },
   "outputs": [],
   "source": []
  }
 ],
 "metadata": {
  "kernelspec": {
   "display_name": "Python 3",
   "language": "python",
   "name": "python3"
  },
  "language_info": {
   "codemirror_mode": {
    "name": "ipython",
    "version": 3
   },
   "file_extension": ".py",
   "mimetype": "text/x-python",
   "name": "python",
   "nbconvert_exporter": "python",
   "pygments_lexer": "ipython3",
   "version": "3.5.2"
  }
 },
 "nbformat": 4,
 "nbformat_minor": 2
}
