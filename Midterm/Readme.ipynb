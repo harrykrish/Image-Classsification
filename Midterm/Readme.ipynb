{
 "cells": [
  {
   "cell_type": "markdown",
   "metadata": {},
   "source": [
    "## Image Classification of Buildings (Binary Classification)"
   ]
  },
  {
   "cell_type": "markdown",
   "metadata": {},
   "source": [
    "### Objective"
   ]
  },
  {
   "cell_type": "markdown",
   "metadata": {},
   "source": [
    "The objective of this project is to use a convolutional neural network to identify objects in a image from Google maps. The objective is to classify different objects like Building, Road, Trees etc.\n",
    "\n",
    "This will be useful to create shape files of locations. This project can be further developed to pass the image of a location which has many objects and the network can be trained to identify various kinds of objects and create .shp files from them"
   ]
  },
  {
   "cell_type": "markdown",
   "metadata": {},
   "source": [
    "### Steps involved"
   ]
  },
  {
   "cell_type": "markdown",
   "metadata": {},
   "source": [
    "* Reading an image\n",
    "* Converting it to the required size\n",
    "* Passing the image through a convolutional neural network to determine accruacy with which the building is identified"
   ]
  },
  {
   "cell_type": "markdown",
   "metadata": {},
   "source": [
    "### READING THE IMAGE"
   ]
  },
  {
   "cell_type": "markdown",
   "metadata": {},
   "source": [
    "* The images are classified into testing and training data sets which are used to train the model\n",
    "* These images are named as Buildings if the image has a building object\n",
    "* The images are saved in a numpy array\n",
    "* There are two numpy arrays. One that contains the image and the other contains the label associated with the "
   ]
  },
  {
   "cell_type": "code",
   "execution_count": null,
   "metadata": {
    "collapsed": true
   },
   "outputs": [],
   "source": []
  }
 ],
 "metadata": {
  "kernelspec": {
   "display_name": "Python 3",
   "language": "python",
   "name": "python3"
  },
  "language_info": {
   "codemirror_mode": {
    "name": "ipython",
    "version": 3
   },
   "file_extension": ".py",
   "mimetype": "text/x-python",
   "name": "python",
   "nbconvert_exporter": "python",
   "pygments_lexer": "ipython3",
   "version": "3.5.2"
  }
 },
 "nbformat": 4,
 "nbformat_minor": 2
}
